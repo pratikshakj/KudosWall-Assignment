{
 "cells": [
  {
   "cell_type": "code",
   "execution_count": 1,
   "id": "f5e062d9",
   "metadata": {},
   "outputs": [
    {
     "name": "stdout",
     "output_type": "stream",
     "text": [
      "5\n",
      "The aray of digits are:\n",
      "5 "
     ]
    }
   ],
   "source": [
    "#1.Write a function that takes a number and returns an array of its digits.\n",
    "\n",
    "def convertIntegerToChar(N):\n",
    "    m = N\n",
    "    digit = 0\n",
    "    while (m > 0):\n",
    "        digit += 1\n",
    "        m /= 10\n",
    "    arr = ['0' for i in range(digit)]\n",
    "    arr1 = ['0' for i in range(digit + 1)]\n",
    "    index = 0\n",
    "    while (N > 0):\n",
    "        index += 1\n",
    "        arr1[index] = chr(int(N % 10 + 48))\n",
    "        N = N // 10\n",
    "    for i in range(0, index):\n",
    "        arr[i] = arr1[index - i]\n",
    "    return arr\n",
    "\n",
    "\n",
    "if __name__ == '__main__':\n",
    "    N = input()\n",
    "    length = len(N)\n",
    "    N = int(N)\n",
    "    print(\"The aray of digits are:\")\n",
    "    arr = convertIntegerToChar(N)\n",
    "    for i in range(0, length, 1):\n",
    "        print(arr[i], end=\" \")"
   ]
  },
  {
   "cell_type": "code",
   "execution_count": null,
   "id": "36e5e1f5",
   "metadata": {},
   "outputs": [],
   "source": []
  }
 ],
 "metadata": {
  "kernelspec": {
   "display_name": "Python 3 (ipykernel)",
   "language": "python",
   "name": "python3"
  },
  "language_info": {
   "codemirror_mode": {
    "name": "ipython",
    "version": 3
   },
   "file_extension": ".py",
   "mimetype": "text/x-python",
   "name": "python",
   "nbconvert_exporter": "python",
   "pygments_lexer": "ipython3",
   "version": "3.9.13"
  }
 },
 "nbformat": 4,
 "nbformat_minor": 5
}
