{
 "cells": [
  {
   "cell_type": "code",
   "execution_count": 1,
   "id": "a4ec4fcf",
   "metadata": {},
   "outputs": [
    {
     "name": "stdout",
     "output_type": "stream",
     "text": [
      "Enter a Statement or word is: hello to kudoswall\n",
      "Pig Latin statement or word is:  ellohay otay udoswallkay\n"
     ]
    }
   ],
   "source": [
    "#Write a function that translates a text to Pig Latin and back. \n",
    "#English is translated to Pig Latin by taking the first letter of every word, moving it to the end of the word, and adding \"ay\". \n",
    "#For example, \"hello to kudoswall\" becomes \"ellohay otay udoswallkay\".\n",
    "\n",
    "\n",
    "pl = input('Enter a Statement or word is: ').lower()\n",
    "words = pl.split()\n",
    "\n",
    "for i, word in enumerate(words):\n",
    "    \n",
    "    '''\n",
    "    if first letter is a vowel\n",
    "    '''\n",
    "    if word[0] in 'aeiou':\n",
    "        words[i] = words[i]+ \"ay\"\n",
    "    else:\n",
    "        '''\n",
    "        else get vowel position and postfix all the consonants \n",
    "        present before that vowel to the end of the word along with \"ay\"\n",
    "        '''\n",
    "        has_vowel = False\n",
    "        \n",
    "        for j, letter in enumerate(word):\n",
    "            if letter in 'aeiou':\n",
    "                words[i] = word[j:] + word[:j] + \"ay\"\n",
    "                has_vowel = True\n",
    "                break\n",
    "        if(has_vowel == False):\n",
    "            words[i] = words[i]+ \"ay\"\n",
    "\n",
    "piglatin = ' '.join(words)\n",
    "print(\"Pig Latin statement or word is: \",piglatin)"
   ]
  },
  {
   "cell_type": "code",
   "execution_count": null,
   "id": "987fd4bc",
   "metadata": {},
   "outputs": [],
   "source": []
  }
 ],
 "metadata": {
  "kernelspec": {
   "display_name": "Python 3 (ipykernel)",
   "language": "python",
   "name": "python3"
  },
  "language_info": {
   "codemirror_mode": {
    "name": "ipython",
    "version": 3
   },
   "file_extension": ".py",
   "mimetype": "text/x-python",
   "name": "python",
   "nbconvert_exporter": "python",
   "pygments_lexer": "ipython3",
   "version": "3.9.13"
  }
 },
 "nbformat": 4,
 "nbformat_minor": 5
}
