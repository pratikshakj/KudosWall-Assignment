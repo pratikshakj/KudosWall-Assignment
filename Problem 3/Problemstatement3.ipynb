{
 "cells": [
  {
   "cell_type": "code",
   "execution_count": 22,
   "id": "c043d94e",
   "metadata": {},
   "outputs": [
    {
     "name": "stdout",
     "output_type": "stream",
     "text": [
      "The rotated elements are\n",
      "3 4 5 6 1 2 "
     ]
    }
   ],
   "source": [
    "#3.Write a function that rotates an array by k elements.\n",
    "#For example, [1,2,3,4,5,6] rotated by two becomes [3,4,5,6,1,2]. \n",
    "#Try solving this without creating a copy of the array.\n",
    "\n",
    "def rotate(X, y, n):\n",
    "    k = X.index(y)\n",
    "    new_lis = []\n",
    "    new_lis = X[k+1:]+X[0:k+1]\n",
    "    return new_lis\n",
    " \n",
    "if __name__ == '__main__':\n",
    "    array = [1, 2, 3, 4, 5, 6]\n",
    "    y = 2\n",
    "    N = len(array)\n",
    "    print(\"The rotated elements are:\")\n",
    "    #callinf functions\n",
    "    array = rotate(array, y, N)\n",
    "    for i in array:\n",
    "        print(i,end=\" \")\n",
    "        "
   ]
  },
  {
   "cell_type": "code",
   "execution_count": null,
   "id": "b8fdf820",
   "metadata": {},
   "outputs": [],
   "source": []
  },
  {
   "cell_type": "code",
   "execution_count": null,
   "id": "09a25da4",
   "metadata": {},
   "outputs": [],
   "source": []
  }
 ],
 "metadata": {
  "kernelspec": {
   "display_name": "Python 3 (ipykernel)",
   "language": "python",
   "name": "python3"
  },
  "language_info": {
   "codemirror_mode": {
    "name": "ipython",
    "version": 3
   },
   "file_extension": ".py",
   "mimetype": "text/x-python",
   "name": "python",
   "nbconvert_exporter": "python",
   "pygments_lexer": "ipython3",
   "version": "3.9.13"
  }
 },
 "nbformat": 4,
 "nbformat_minor": 5
}
