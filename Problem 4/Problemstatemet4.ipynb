{
 "cells": [
  {
   "cell_type": "code",
   "execution_count": 1,
   "id": "b50f64b7",
   "metadata": {},
   "outputs": [
    {
     "name": "stdout",
     "output_type": "stream",
     "text": [
      "The original string is : altERnaTIng cAsE\n",
      "The converted string is : AlTeRnAtInG CaSe\n"
     ]
    }
   ],
   "source": [
    "# Write a function to alternate the case of the characters in the string; i.e.,\n",
    "# each lowercase letter becomes uppercase and each uppercase letter becomes lowercase.\n",
    "# For example, altERnaTIng cAsE becomes ALTerNAtiNG CaSe\n",
    "\n",
    "ul_str = \"altERnaTIng cAsE\"\n",
    "\n",
    "# printing original string\n",
    "print(\"The original string is : \" + str(ul_str))\n",
    "\n",
    "result = \"\"\n",
    "for idx in range(len(ul_str)):\n",
    "    if not idx % 2:\n",
    "        result = result + ul_str[idx].upper()\n",
    "    else:\n",
    "        result = result + ul_str[idx].lower()\n",
    "\n",
    "# printing result\n",
    "print(\"The converted string is : \" + str(result))"
   ]
  },
  {
   "cell_type": "code",
   "execution_count": null,
   "id": "4d0314b1",
   "metadata": {},
   "outputs": [],
   "source": []
  }
 ],
 "metadata": {
  "kernelspec": {
   "display_name": "Python 3 (ipykernel)",
   "language": "python",
   "name": "python3"
  },
  "language_info": {
   "codemirror_mode": {
    "name": "ipython",
    "version": 3
   },
   "file_extension": ".py",
   "mimetype": "text/x-python",
   "name": "python",
   "nbconvert_exporter": "python",
   "pygments_lexer": "ipython3",
   "version": "3.9.13"
  }
 },
 "nbformat": 4,
 "nbformat_minor": 5
}
